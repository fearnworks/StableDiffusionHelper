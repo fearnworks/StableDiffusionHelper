{
 "cells": [
  {
   "cell_type": "code",
   "execution_count": null,
   "metadata": {},
   "outputs": [],
   "source": [
    "%matplotlib inline\n",
    "%reload_ext autoreload\n",
    "%autoreload 2\n",
    "\n",
    "from sd_helper.video_frame_sequence import VideoFrameSequence\n",
    "\n",
    "# Define the attributes for the transformation\n",
    "subject = \"jaqen h'ghar\"\n",
    "target = \"arya stark\"\n",
    "tsf = [\"transformation sequence\", \"mtf\"]\n",
    "\n",
    "# Frame 0: The man is aware of the upcoming transformation\n",
    "global_attributes = {\n",
    "    \"game of thrones\": 1,\n",
    "    \"dark musty crypt\": 1,\n",
    "    \"digsuise\" : 1,\n",
    "    \"assasin\": 1,\n",
    "    \"solo\": 1,\n",
    "    \"lora:epiCRealismHelper\": 1\n",
    "}\n",
    "# Create the example sequence again with the updated class definition\n",
    "example_sequence = VideoFrameSequence(global_attributes=global_attributes, max_frames=220)\n",
    "example_sequence.schedule_weights(1,90, [f\"{subject}:{subject} transforming into {target}\", f\"{subject}:{target}\"], .99, 0)\n",
    "example_sequence.schedule_weights(5,90, tsf, 0, 1)\n",
    "# Convert the example_sequence object to JSON\n",
    "example_sequence_json = example_sequence.to_json()\n",
    "# Display the JSON\n",
    "print(example_sequence_json)\n",
    "\n",
    "import json\n",
    "import pyperclip  # You may need to install this library by running `!pip install pyperclip`\n",
    "\n",
    "def copy_json_to_clipboard(json_object):\n",
    "\n",
    "    compact_json_str = json.dumps(json_object, separators=(',', ':')).replace('\\n', '')\n",
    "    pyperclip.copy(json.loads(compact_json_str))\n",
    "\n",
    "copy_json_to_clipboard(example_sequence_json)"
   ]
  }
 ],
 "metadata": {
  "kernelspec": {
   "display_name": ".venv",
   "language": "python",
   "name": "python3"
  },
  "language_info": {
   "codemirror_mode": {
    "name": "ipython",
    "version": 3
   },
   "file_extension": ".py",
   "mimetype": "text/x-python",
   "name": "python",
   "nbconvert_exporter": "python",
   "pygments_lexer": "ipython3",
   "version": "3.11.4"
  },
  "orig_nbformat": 4
 },
 "nbformat": 4,
 "nbformat_minor": 2
}
